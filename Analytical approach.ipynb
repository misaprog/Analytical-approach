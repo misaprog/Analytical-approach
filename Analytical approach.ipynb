{
 "cells": [
  {
   "cell_type": "code",
   "execution_count": 2,
   "id": "06ff994a-ac03-4e5e-aaf2-86c39efe405c",
   "metadata": {},
   "outputs": [
    {
     "name": "stdout",
     "output_type": "stream",
     "text": [
      "Accuracy: 1.0\n"
     ]
    }
   ],
   "source": [
    "from sklearn.tree import DecisionTreeClassifier\n",
    "from sklearn.datasets import load_iris\n",
    "from sklearn.model_selection import train_test_split\n",
    "from sklearn.metrics import accuracy_score\n",
    "\n",
    "# 1. データをロード（Irisデータセット）\n",
    "iris = load_iris()\n",
    "X = iris.data\n",
    "y = iris.target\n",
    "\n",
    "# 2. 学習用とテスト用に分割\n",
    "X_train, X_test, y_train, y_test = train_test_split(X, y, test_size=0.2, random_state=42)\n",
    "\n",
    "# 3. モデルの作成・学習\n",
    "clf = DecisionTreeClassifier()\n",
    "clf.fit(X_train, y_train)\n",
    "\n",
    "# 4. 予測と評価\n",
    "y_pred = clf.predict(X_test)\n",
    "accuracy = accuracy_score(y_test, y_pred)\n",
    "\n",
    "print(\"Accuracy:\", accuracy)\n"
   ]
  },
  {
   "cell_type": "code",
   "execution_count": 3,
   "id": "a6bd7a15-6c8b-4613-9967-4f078d3f6665",
   "metadata": {},
   "outputs": [
    {
     "name": "stdout",
     "output_type": "stream",
     "text": [
      "🔢 混同行列:\n",
      "[[10  0  0]\n",
      " [ 0  9  0]\n",
      " [ 0  0 11]]\n",
      "\n",
      "📊 分類レポート:\n",
      "              precision    recall  f1-score   support\n",
      "\n",
      "      setosa       1.00      1.00      1.00        10\n",
      "  versicolor       1.00      1.00      1.00         9\n",
      "   virginica       1.00      1.00      1.00        11\n",
      "\n",
      "    accuracy                           1.00        30\n",
      "   macro avg       1.00      1.00      1.00        30\n",
      "weighted avg       1.00      1.00      1.00        30\n",
      "\n",
      "\n",
      "✅ 正解 vs 予測（一覧）:\n",
      "            正解          予測   一致？\n",
      "0   versicolor  versicolor  True\n",
      "1       setosa      setosa  True\n",
      "2    virginica   virginica  True\n",
      "3   versicolor  versicolor  True\n",
      "4   versicolor  versicolor  True\n",
      "5       setosa      setosa  True\n",
      "6   versicolor  versicolor  True\n",
      "7    virginica   virginica  True\n",
      "8   versicolor  versicolor  True\n",
      "9   versicolor  versicolor  True\n",
      "10   virginica   virginica  True\n",
      "11      setosa      setosa  True\n",
      "12      setosa      setosa  True\n",
      "13      setosa      setosa  True\n",
      "14      setosa      setosa  True\n",
      "15  versicolor  versicolor  True\n",
      "16   virginica   virginica  True\n",
      "17  versicolor  versicolor  True\n",
      "18  versicolor  versicolor  True\n",
      "19   virginica   virginica  True\n",
      "20      setosa      setosa  True\n",
      "21   virginica   virginica  True\n",
      "22      setosa      setosa  True\n",
      "23   virginica   virginica  True\n",
      "24   virginica   virginica  True\n",
      "25   virginica   virginica  True\n",
      "26   virginica   virginica  True\n",
      "27   virginica   virginica  True\n",
      "28      setosa      setosa  True\n",
      "29      setosa      setosa  True\n"
     ]
    }
   ],
   "source": [
    "from sklearn.metrics import confusion_matrix, classification_report\n",
    "import pandas as pd\n",
    "\n",
    "# 予測（y_pred）と正解（y_test）がすでにある前提で進めます\n",
    "\n",
    "# 混同行列を作成\n",
    "cm = confusion_matrix(y_test, y_pred)\n",
    "print(\"🔢 混同行列:\")\n",
    "print(cm)\n",
    "\n",
    "# 分類レポート（精度・再現率など詳細）\n",
    "print(\"\\n📊 分類レポート:\")\n",
    "print(classification_report(y_test, y_pred, target_names=iris.target_names))\n",
    "\n",
    "# 正解と予測を比較する表を作成\n",
    "comparison_df = pd.DataFrame({\n",
    "    '正解': [iris.target_names[i] for i in y_test],\n",
    "    '予測': [iris.target_names[i] for i in y_pred]\n",
    "})\n",
    "comparison_df['一致？'] = comparison_df['正解'] == comparison_df['予測']\n",
    "\n",
    "print(\"\\n✅ 正解 vs 予測（一覧）:\")\n",
    "print(comparison_df)\n"
   ]
  },
  {
   "cell_type": "code",
   "execution_count": null,
   "id": "7b68af39-618d-4cd9-acc1-1ae46fbfe903",
   "metadata": {},
   "outputs": [],
   "source": []
  }
 ],
 "metadata": {
  "kernelspec": {
   "display_name": "Python 3 (ipykernel)",
   "language": "python",
   "name": "python3"
  },
  "language_info": {
   "codemirror_mode": {
    "name": "ipython",
    "version": 3
   },
   "file_extension": ".py",
   "mimetype": "text/x-python",
   "name": "python",
   "nbconvert_exporter": "python",
   "pygments_lexer": "ipython3",
   "version": "3.13.5"
  }
 },
 "nbformat": 4,
 "nbformat_minor": 5
}
